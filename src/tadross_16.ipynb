{
 "cells": [
  {
   "cell_type": "code",
   "execution_count": 1,
   "metadata": {},
   "outputs": [],
   "source": [
    "from features import *\n",
    "import DataStruct as ds\n",
    "import visualization as vis\n",
    "import interface as itf\n",
    "import numpy as np\n",
    "import time\n",
    "import read, write"
   ]
  },
  {
   "cell_type": "code",
   "execution_count": 2,
   "metadata": {},
   "outputs": [],
   "source": [
    "analysis_key = 'ensemble_16'\n",
    "paths = read.config('../configs/path_configs/' + analysis_key + '.yaml')\n",
    "params = read.config('../configs/param_configs/fitsne.yaml')\n",
    "connectivity = read.connectivity(path = paths['skeleton_path'], \n",
    "                                 skeleton_name = paths['skeleton_name'])"
   ]
  },
  {
   "cell_type": "code",
   "execution_count": 3,
   "metadata": {},
   "outputs": [
    {
     "name": "stdout",
     "output_type": "stream",
     "text": [
      "Snout\n",
      "EarR\n",
      "EarL\n",
      "SpineF\n",
      "SpineM\n",
      "Tail_base_\n",
      "Forepaw_R\n",
      "Wrist_R\n",
      "ForeLimb_R\n",
      "Forepaw_L\n",
      "Wrist_L\n",
      "Forelimb_L\n",
      "Hindpaw_R\n",
      "Ankel_R\n",
      "Hindlimb_R\n",
      "Hindpaw_L\n",
      "Ankel_L\n",
      "Hindlimb_L\n"
     ]
    }
   ],
   "source": [
    "pose, exp_ids = read.pose(paths['pose_path'], \n",
    "                          connectivity,\n",
    "                          paths['exp_key'])"
   ]
  },
  {
   "cell_type": "code",
   "execution_count": 4,
   "metadata": {},
   "outputs": [
    {
     "name": "stderr",
     "output_type": "stream",
     "text": [
      "  0%|          | 0/16 [00:00<?, ?it/s]\n"
     ]
    },
    {
     "ename": "NameError",
     "evalue": "name 'pose' is not defined",
     "output_type": "error",
     "traceback": [
      "\u001b[0;31m---------------------------------------------------------------------------\u001b[0m",
      "\u001b[0;31mNameError\u001b[0m                                 Traceback (most recent call last)",
      "\u001b[1;32m/home/exx/Desktop/GitHub/dappy/src/tadross_16.ipynb Cell 4\u001b[0m in \u001b[0;36m<cell line: 1>\u001b[0;34m()\u001b[0m\n\u001b[0;32m----> <a href='vscode-notebook-cell:/home/exx/Desktop/GitHub/dappy/src/tadross_16.ipynb#W3sZmlsZQ%3D%3D?line=0'>1</a>\u001b[0m pose \u001b[39m=\u001b[39m fix_tracking(pose, exp_ids, [\u001b[39m0\u001b[39;49m,\u001b[39m4\u001b[39;49m,\u001b[39m5\u001b[39;49m])\n",
      "File \u001b[0;32m~/Desktop/GitHub/dappy/src/features.py:83\u001b[0m, in \u001b[0;36mfix_tracking\u001b[0;34m(x, exp_id, spine_idx, threshold)\u001b[0m\n\u001b[1;32m     78\u001b[0m \u001b[39mdef\u001b[39;00m \u001b[39mfix_tracking\u001b[39m(x:np\u001b[39m.\u001b[39mndarray,\n\u001b[1;32m     79\u001b[0m                  exp_id: Union[List, np\u001b[39m.\u001b[39mndarray],\n\u001b[1;32m     80\u001b[0m                  spine_idx \u001b[39m=\u001b[39m [\u001b[39m3\u001b[39m,\u001b[39m4\u001b[39m,\u001b[39m5\u001b[39m],\n\u001b[1;32m     81\u001b[0m                  threshold: \u001b[39mfloat\u001b[39m\u001b[39m=\u001b[39m\u001b[39m5\u001b[39m):\n\u001b[1;32m     82\u001b[0m     \u001b[39mfor\u001b[39;00m _, i \u001b[39min\u001b[39;00m \u001b[39menumerate\u001b[39m(tqdm(np\u001b[39m.\u001b[39munique(exp_id))):\n\u001b[0;32m---> 83\u001b[0m         pose_exp \u001b[39m=\u001b[39m pose[exp_id \u001b[39m==\u001b[39m i,:,:]\n",
      "\u001b[0;31mNameError\u001b[0m: name 'pose' is not defined"
     ]
    }
   ],
   "source": [
    "import pdb; pdb.set_trace()\n",
    "pose = fix_tracking(pose, exp_ids, [0,4,5])"
   ]
  }
 ],
 "metadata": {
  "kernelspec": {
   "display_name": "Python 3.8.13 ('capture')",
   "language": "python",
   "name": "python3"
  },
  "language_info": {
   "codemirror_mode": {
    "name": "ipython",
    "version": 3
   },
   "file_extension": ".py",
   "mimetype": "text/x-python",
   "name": "python",
   "nbconvert_exporter": "python",
   "pygments_lexer": "ipython3",
   "version": "3.8.13"
  },
  "orig_nbformat": 4,
  "vscode": {
   "interpreter": {
    "hash": "385c92b5077163337880ed1116fdafd989b4fe218c24e087321f17c8274ea8b2"
   }
  }
 },
 "nbformat": 4,
 "nbformat_minor": 2
}
